{
 "cells": [
  {
   "cell_type": "code",
   "execution_count": 10,
   "id": "686598fb-072f-4c90-8822-2f452cd3ed7f",
   "metadata": {},
   "outputs": [],
   "source": [
    "import pandas as pd\n",
    "import numpy as np\n",
    "import matplotlib.pyplot as plt\n",
    "import seaborn as sns\n",
    "\n",
    "from sklearn.preprocessing import LabelEncoder\n",
    "from sklearn.model_selection import train_test_split\n",
    "\n",
    "\n",
    "# Untuk mempermudah, simpan setiap objek agar dapat digunakan untuk pemodelan maupun deployment. Gunakan library Pickle\n",
    "import pickle\n",
    "\n",
    "\n",
    "\n",
    "\n",
    "%matplotlib inline"
   ]
  },
  {
   "cell_type": "code",
   "execution_count": 18,
   "id": "40bd0730-132a-448f-a4ff-97bea8a1b12c",
   "metadata": {},
   "outputs": [
    {
     "data": {
      "text/html": [
       "<div>\n",
       "<style scoped>\n",
       "    .dataframe tbody tr th:only-of-type {\n",
       "        vertical-align: middle;\n",
       "    }\n",
       "\n",
       "    .dataframe tbody tr th {\n",
       "        vertical-align: top;\n",
       "    }\n",
       "\n",
       "    .dataframe thead th {\n",
       "        text-align: right;\n",
       "    }\n",
       "</style>\n",
       "<table border=\"1\" class=\"dataframe\">\n",
       "  <thead>\n",
       "    <tr style=\"text-align: right;\">\n",
       "      <th></th>\n",
       "      <th>Id</th>\n",
       "      <th>sentiment</th>\n",
       "      <th>text</th>\n",
       "    </tr>\n",
       "  </thead>\n",
       "  <tbody>\n",
       "    <tr>\n",
       "      <th>0</th>\n",
       "      <td>1</td>\n",
       "      <td>positive</td>\n",
       "      <td>&lt;USER_MENTION&gt; #BOIKOT_&lt;PROVIDER_NAME&gt; Gunakan...</td>\n",
       "    </tr>\n",
       "    <tr>\n",
       "      <th>1</th>\n",
       "      <td>2</td>\n",
       "      <td>positive</td>\n",
       "      <td>Saktinya balik lagi, alhamdulillah :v &lt;PROVIDE...</td>\n",
       "    </tr>\n",
       "    <tr>\n",
       "      <th>2</th>\n",
       "      <td>3</td>\n",
       "      <td>negative</td>\n",
       "      <td>Selamat pagi &lt;PROVIDER_NAME&gt;  bisa bantu kenap...</td>\n",
       "    </tr>\n",
       "    <tr>\n",
       "      <th>3</th>\n",
       "      <td>4</td>\n",
       "      <td>negative</td>\n",
       "      <td>Dear &lt;PROVIDER_NAME&gt; akhir2 ini jaringan data ...</td>\n",
       "    </tr>\n",
       "    <tr>\n",
       "      <th>4</th>\n",
       "      <td>5</td>\n",
       "      <td>negative</td>\n",
       "      <td>Selamat malam PENDUSTA &lt;PROVIDER_NAME&gt;</td>\n",
       "    </tr>\n",
       "    <tr>\n",
       "      <th>...</th>\n",
       "      <td>...</td>\n",
       "      <td>...</td>\n",
       "      <td>...</td>\n",
       "    </tr>\n",
       "    <tr>\n",
       "      <th>295</th>\n",
       "      <td>296</td>\n",
       "      <td>positive</td>\n",
       "      <td>Pantesan lancar ya, sinyal &lt;PROVIDER_NAME&gt; yan...</td>\n",
       "    </tr>\n",
       "    <tr>\n",
       "      <th>296</th>\n",
       "      <td>297</td>\n",
       "      <td>positive</td>\n",
       "      <td>Alhamdulillah lancar pakai &lt;PROVIDER_NAME&gt;</td>\n",
       "    </tr>\n",
       "    <tr>\n",
       "      <th>297</th>\n",
       "      <td>298</td>\n",
       "      <td>positive</td>\n",
       "      <td>Untung pakai internet &lt;PROVIDER_NAME&gt;, lancar,...</td>\n",
       "    </tr>\n",
       "    <tr>\n",
       "      <th>298</th>\n",
       "      <td>299</td>\n",
       "      <td>positive</td>\n",
       "      <td>di tempat ramai seperti di lokasi wisata, &lt;PRO...</td>\n",
       "    </tr>\n",
       "    <tr>\n",
       "      <th>299</th>\n",
       "      <td>300</td>\n",
       "      <td>negative</td>\n",
       "      <td>Sinyal &lt;PROVIDER_NAME&gt; amsyong d stadion gajayana</td>\n",
       "    </tr>\n",
       "  </tbody>\n",
       "</table>\n",
       "<p>300 rows × 3 columns</p>\n",
       "</div>"
      ],
      "text/plain": [
       "      Id sentiment                                               text\n",
       "0      1  positive  <USER_MENTION> #BOIKOT_<PROVIDER_NAME> Gunakan...\n",
       "1      2  positive  Saktinya balik lagi, alhamdulillah :v <PROVIDE...\n",
       "2      3  negative  Selamat pagi <PROVIDER_NAME>  bisa bantu kenap...\n",
       "3      4  negative  Dear <PROVIDER_NAME> akhir2 ini jaringan data ...\n",
       "4      5  negative            Selamat malam PENDUSTA <PROVIDER_NAME> \n",
       "..   ...       ...                                                ...\n",
       "295  296  positive  Pantesan lancar ya, sinyal <PROVIDER_NAME> yan...\n",
       "296  297  positive         Alhamdulillah lancar pakai <PROVIDER_NAME>\n",
       "297  298  positive  Untung pakai internet <PROVIDER_NAME>, lancar,...\n",
       "298  299  positive  di tempat ramai seperti di lokasi wisata, <PRO...\n",
       "299  300  negative  Sinyal <PROVIDER_NAME> amsyong d stadion gajayana\n",
       "\n",
       "[300 rows x 3 columns]"
      ]
     },
     "execution_count": 18,
     "metadata": {},
     "output_type": "execute_result"
    }
   ],
   "source": [
    "# Membaca file CSV dan mengimpor kolom tertentu\n",
    "data = pd.read_csv('dataset_tweet_sentiment_cellular_service_provider.csv')\n",
    "data = data.rename(columns={'Text Tweet': 'text','Sentiment':'sentiment'})\n",
    "\n",
    "# Menampilkan data\n",
    "data"
   ]
  },
  {
   "cell_type": "code",
   "execution_count": 19,
   "id": "56ce134d-e53e-42a6-a509-9651aa0f5df3",
   "metadata": {},
   "outputs": [
    {
     "data": {
      "text/plain": [
       "sentiment    0\n",
       "text         0\n",
       "dtype: int64"
      ]
     },
     "execution_count": 19,
     "metadata": {},
     "output_type": "execute_result"
    }
   ],
   "source": [
    "data = data.drop(['Id'], axis = 1)\n",
    "data.isnull().sum()"
   ]
  },
  {
   "cell_type": "code",
   "execution_count": 20,
   "id": "ad684c48-300e-4fc1-a769-b1da28854117",
   "metadata": {},
   "outputs": [
    {
     "data": {
      "text/plain": [
       "<Axes: xlabel='sentiment', ylabel='count'>"
      ]
     },
     "execution_count": 20,
     "metadata": {},
     "output_type": "execute_result"
    },
    {
     "data": {
      "image/png": "[encoded data removed]",
      "text/plain": [
       "<Figure size 1200x600 with 1 Axes>"
      ]
     },
     "metadata": {},
     "output_type": "display_data"
    }
   ],
   "source": [
    "\n",
    "plt.figure(figsize=(12,6))\n",
    "sns.countplot(x='sentiment',data=data)"
   ]
  },
  {
   "cell_type": "markdown",
   "id": "0d519af2-034b-4776-ab4e-a7c5332499e7",
   "metadata": {},
   "source": [
    "# Case Folding"
   ]
  },
  {
   "cell_type": "code",
   "execution_count": 39,
   "id": "08216a8c-a136-4963-8b49-14ef836db0a7",
   "metadata": {},
   "outputs": [],
   "source": [
    "import re\n",
    "\n",
    "# Buat fungsi untuk langkah case folding\n",
    "def casefolding(text):\n",
    "    text = text.lower()   # Mengubah teks menjadi lower case    \n",
    "    text = re.sub(r'#\\w+\\s*', ' ', text)\n",
    "    text = re.sub(r'<[^>]+>|\\n', ' ', text)            # Menghapus <...>                      \n",
    "    text = re.sub(r'https?://\\S+|www\\.\\S+', ' ', text) # Menghapus URL\n",
    "    text = re.sub(r'[-+]?[0-9]+', ' ', text)           # Menghapus angka\n",
    "    text = re.sub(r'[^\\w\\s]', ' ', text)               # Menghapus karakter tanda baca\n",
    "    return text"
   ]
  },
  {
   "cell_type": "code",
   "execution_count": 40,
   "id": "1461fd45-50ad-4de0-b754-9766bceec084",
   "metadata": {},
   "outputs": [
    {
     "name": "stdout",
     "output_type": "stream",
     "text": [
      "Raw data\t:  Untuk penembakan paket dari <PRODUCT_NAME> masih gangguan ya <PROVIDER_NAME>\n",
      "Case folding\t:  untuk penembakan paket dari   masih gangguan ya  \n"
     ]
    }
   ],
   "source": [
    "raw_sample = data['text'].iloc[5]\n",
    "case_folding = casefolding(raw_sample)\n",
    "\n",
    "print('Raw data\\t: ', raw_sample)\n",
    "print('Case folding\\t: ', case_folding)"
   ]
  },
  {
   "cell_type": "markdown",
   "id": "9a4e6c99-f0fa-4c40-9b25-53e6144c7d03",
   "metadata": {},
   "source": [
    "## Word Normalization"
   ]
  },
  {
   "cell_type": "code",
   "execution_count": 41,
   "id": "2569b36f-d704-4df3-9fed-6fc93a2e1a9c",
   "metadata": {},
   "outputs": [
    {
     "name": "stdout",
     "output_type": "stream",
     "text": [
      "       singkat       hasil\n",
      "0         abis       habis\n",
      "1       accent     tekanan\n",
      "2       accept      terima\n",
      "3     accident  kecelakaan\n",
      "4  achievement    prestasi\n"
     ]
    },
    {
     "data": {
      "text/plain": [
       "(18727, 2)"
      ]
     },
     "execution_count": 41,
     "metadata": {},
     "output_type": "execute_result"
    }
   ],
   "source": [
    "key_norm = pd.read_csv('key_norm_indo.csv')\n",
    "\n",
    "selected_columns = key_norm[['singkat', 'hasil']]\n",
    "\n",
    "key_norm = pd.DataFrame(selected_columns)\n",
    "\n",
    "print(key_norm.head())\n",
    "\n",
    "key_norm.shape"
   ]
  },
  {
   "cell_type": "code",
   "execution_count": 42,
   "id": "d46c2502-e40a-43f9-a43c-0d3b1c942cb7",
   "metadata": {},
   "outputs": [],
   "source": [
    "def text_normalize(text):\n",
    "  text = ' '.join([key_norm[key_norm['singkat'] == word]['hasil'].values[0] if (key_norm['singkat'] == word).any() else word for word in text.split()])\n",
    "  text = str.lower(text)\n",
    "  return text"
   ]
  },
  {
   "cell_type": "markdown",
   "id": "bdea70cf-debe-4457-b105-5c4b2533e733",
   "metadata": {},
   "source": [
    "## Filtering (Stopword Removal)"
   ]
  },
  {
   "cell_type": "code",
   "execution_count": 43,
   "id": "7059720a-d10e-4b52-8bed-73bc5cd0f739",
   "metadata": {},
   "outputs": [],
   "source": [
    "from nltk.tokenize import sent_tokenize, word_tokenize\n",
    "from nltk.corpus import stopwords\n",
    "\n",
    "stopwords_ind = stopwords.words('indonesian')"
   ]
  },
  {
   "cell_type": "code",
   "execution_count": 44,
   "id": "4d69d5a5-a0b5-43a4-b3e2-3a59de1df2e8",
   "metadata": {},
   "outputs": [
    {
     "data": {
      "text/plain": [
       "758"
      ]
     },
     "execution_count": 44,
     "metadata": {},
     "output_type": "execute_result"
    }
   ],
   "source": [
    "len(stopwords_ind)"
   ]
  },
  {
   "cell_type": "code",
   "execution_count": 45,
   "id": "eecfed16-5422-4593-b549-3110871ec8a4",
   "metadata": {},
   "outputs": [
    {
     "data": {
      "text/plain": [
       "['ada',\n",
       " 'adalah',\n",
       " 'adanya',\n",
       " 'adapun',\n",
       " 'agak',\n",
       " 'agaknya',\n",
       " 'agar',\n",
       " 'akan',\n",
       " 'akankah',\n",
       " 'akhir',\n",
       " 'akhiri',\n",
       " 'akhirnya',\n",
       " 'aku',\n",
       " 'akulah',\n",
       " 'amat',\n",
       " 'amatlah',\n",
       " 'anda',\n",
       " 'andalah',\n",
       " 'antar',\n",
       " 'antara']"
      ]
     },
     "execution_count": 45,
     "metadata": {},
     "output_type": "execute_result"
    }
   ],
   "source": [
    "stopwords_ind[:20]"
   ]
  },
  {
   "cell_type": "code",
   "execution_count": 46,
   "id": "a8fd7270-2e1e-40c6-b3a2-b8190e9e5cf0",
   "metadata": {},
   "outputs": [],
   "source": [
    "def remove_stop_words(text):\n",
    "  clean_words = []\n",
    "  text = text.split()\n",
    "  for word in text:\n",
    "      if word not in stopwords_ind:\n",
    "          clean_words.append(word)\n",
    "  return \" \".join(clean_words)"
   ]
  },
  {
   "cell_type": "code",
   "execution_count": 47,
   "id": "c03b8456-a38c-44d9-8d57-43172c800855",
   "metadata": {},
   "outputs": [
    {
     "name": "stdout",
     "output_type": "stream",
     "text": [
      "Raw data\t\t:  Untuk penembakan paket dari <PRODUCT_NAME> masih gangguan ya <PROVIDER_NAME>\n",
      "Case folding\t\t:  untuk penembakan paket dari   masih gangguan ya  \n",
      "Stopword removal\t:  penembakan paket gangguan ya\n"
     ]
    }
   ],
   "source": [
    "raw_sample = data['text'].iloc[5]\n",
    "case_folding = casefolding(raw_sample)\n",
    "stopword_removal = remove_stop_words(case_folding)\n",
    "\n",
    "print('Raw data\\t\\t: ', raw_sample)\n",
    "print('Case folding\\t\\t: ', case_folding)\n",
    "print('Stopword removal\\t: ', stopword_removal)"
   ]
  },
  {
   "cell_type": "markdown",
   "id": "9eefe205-1384-4f46-ad44-fb74eded2ff7",
   "metadata": {},
   "source": [
    "## Stemming"
   ]
  },
  {
   "cell_type": "code",
   "execution_count": 48,
   "id": "8a55c8c4-1984-444d-b501-17f09b458a5f",
   "metadata": {},
   "outputs": [],
   "source": [
    "from Sastrawi.Stemmer.StemmerFactory import StemmerFactory\n",
    "\n",
    "factory = StemmerFactory()\n",
    "stemmer = factory.create_stemmer()\n",
    "\n",
    "# Buat fungsi untuk langkah stemming bahasa Indonesia\n",
    "def stemming(text):\n",
    "  text = stemmer.stem(text)\n",
    "  return text"
   ]
  },
  {
   "cell_type": "code",
   "execution_count": 49,
   "id": "d788dae8-e6ae-4b1b-9ee7-cea38f92e5e1",
   "metadata": {},
   "outputs": [
    {
     "name": "stdout",
     "output_type": "stream",
     "text": [
      "Raw data\t\t:  Untuk penembakan paket dari <PRODUCT_NAME> masih gangguan ya <PROVIDER_NAME>\n",
      "Case folding\t\t:  untuk penembakan paket dari   masih gangguan ya  \n",
      "Stopword removal\t:  penembakan paket gangguan ya\n",
      "Stemming\t\t:  tembak paket ganggu ya\n"
     ]
    }
   ],
   "source": [
    "raw_sample = data['text'].iloc[5]\n",
    "case_folding = casefolding(raw_sample)\n",
    "stopword_removal = remove_stop_words(case_folding)\n",
    "text_stemming = stemming(stopword_removal)\n",
    "\n",
    "print('Raw data\\t\\t: ', raw_sample)\n",
    "print('Case folding\\t\\t: ', case_folding)\n",
    "print('Stopword removal\\t: ', stopword_removal)\n",
    "print('Stemming\\t\\t: ', text_stemming)"
   ]
  },
  {
   "cell_type": "markdown",
   "id": "037efdfa-0a58-4d7e-a8f5-110761ff00a8",
   "metadata": {},
   "source": [
    "## Text Preprocessing Pipeline"
   ]
  },
  {
   "cell_type": "code",
   "execution_count": 50,
   "id": "972aec88-554f-46e0-939d-09e0016d4fd2",
   "metadata": {},
   "outputs": [],
   "source": [
    "# Buat fungsi untuk menggabungkan seluruh langkah text preprocessing\n",
    "def text_preprocessing_process(text):\n",
    "  text = casefolding(text)\n",
    "  text = text_normalize(text)\n",
    "  text = remove_stop_words(text)\n",
    "  text = stemming(text)\n",
    "  return text"
   ]
  },
  {
   "cell_type": "code",
   "execution_count": 51,
   "id": "9af0f3d8-8107-4cd9-b658-810648eab5ae",
   "metadata": {},
   "outputs": [
    {
     "name": "stdout",
     "output_type": "stream",
     "text": [
      "CPU times: total: 24.6 s\n",
      "Wall time: 24.6 s\n"
     ]
    }
   ],
   "source": [
    "%%time\n",
    "data['clean_teks'] = data['text'].apply(text_preprocessing_process)\n",
    "\n",
    "# Perhatikan waktu komputasi ketika proses text preprocessing"
   ]
  },
  {
   "cell_type": "code",
   "execution_count": 52,
   "id": "fb553e14-0ae2-442a-9ef7-c7644373fcb2",
   "metadata": {},
   "outputs": [
    {
     "data": {
      "text/html": [
       "<div>\n",
       "<style scoped>\n",
       "    .dataframe tbody tr th:only-of-type {\n",
       "        vertical-align: middle;\n",
       "    }\n",
       "\n",
       "    .dataframe tbody tr th {\n",
       "        vertical-align: top;\n",
       "    }\n",
       "\n",
       "    .dataframe thead th {\n",
       "        text-align: right;\n",
       "    }\n",
       "</style>\n",
       "<table border=\"1\" class=\"dataframe\">\n",
       "  <thead>\n",
       "    <tr style=\"text-align: right;\">\n",
       "      <th></th>\n",
       "      <th>sentiment</th>\n",
       "      <th>text</th>\n",
       "      <th>clean_teks</th>\n",
       "    </tr>\n",
       "  </thead>\n",
       "  <tbody>\n",
       "    <tr>\n",
       "      <th>0</th>\n",
       "      <td>positive</td>\n",
       "      <td>&lt;USER_MENTION&gt; #BOIKOT_&lt;PROVIDER_NAME&gt; Gunakan...</td>\n",
       "      <td>produk bangsa</td>\n",
       "    </tr>\n",
       "    <tr>\n",
       "      <th>1</th>\n",
       "      <td>positive</td>\n",
       "      <td>Saktinya balik lagi, alhamdulillah :v &lt;PROVIDE...</td>\n",
       "      <td>sakti alhamdulillah v</td>\n",
       "    </tr>\n",
       "    <tr>\n",
       "      <th>2</th>\n",
       "      <td>negative</td>\n",
       "      <td>Selamat pagi &lt;PROVIDER_NAME&gt;  bisa bantu kenap...</td>\n",
       "      <td>selamat pagi bantu kamar sinyal hilang panggil...</td>\n",
       "    </tr>\n",
       "    <tr>\n",
       "      <th>3</th>\n",
       "      <td>negative</td>\n",
       "      <td>Dear &lt;PROVIDER_NAME&gt; akhir2 ini jaringan data ...</td>\n",
       "      <td>dear jaring data lot banget h</td>\n",
       "    </tr>\n",
       "    <tr>\n",
       "      <th>4</th>\n",
       "      <td>negative</td>\n",
       "      <td>Selamat malam PENDUSTA &lt;PROVIDER_NAME&gt;</td>\n",
       "      <td>selamat malam dusta</td>\n",
       "    </tr>\n",
       "    <tr>\n",
       "      <th>...</th>\n",
       "      <td>...</td>\n",
       "      <td>...</td>\n",
       "      <td>...</td>\n",
       "    </tr>\n",
       "    <tr>\n",
       "      <th>295</th>\n",
       "      <td>positive</td>\n",
       "      <td>Pantesan lancar ya, sinyal &lt;PROVIDER_NAME&gt; yan...</td>\n",
       "      <td>pantesan lancar ya sinyal lancar lombok timur</td>\n",
       "    </tr>\n",
       "    <tr>\n",
       "      <th>296</th>\n",
       "      <td>positive</td>\n",
       "      <td>Alhamdulillah lancar pakai &lt;PROVIDER_NAME&gt;</td>\n",
       "      <td>alhamdulillah lancar pakai</td>\n",
       "    </tr>\n",
       "    <tr>\n",
       "      <th>297</th>\n",
       "      <td>positive</td>\n",
       "      <td>Untung pakai internet &lt;PROVIDER_NAME&gt;, lancar,...</td>\n",
       "      <td>untung pakai internet lancar ide</td>\n",
       "    </tr>\n",
       "    <tr>\n",
       "      <th>298</th>\n",
       "      <td>positive</td>\n",
       "      <td>di tempat ramai seperti di lokasi wisata, &lt;PRO...</td>\n",
       "      <td>ramai lokasi wisata jaya</td>\n",
       "    </tr>\n",
       "    <tr>\n",
       "      <th>299</th>\n",
       "      <td>negative</td>\n",
       "      <td>Sinyal &lt;PROVIDER_NAME&gt; amsyong d stadion gajayana</td>\n",
       "      <td>sinyal amsyong stadion gajayana</td>\n",
       "    </tr>\n",
       "  </tbody>\n",
       "</table>\n",
       "<p>300 rows × 3 columns</p>\n",
       "</div>"
      ],
      "text/plain": [
       "    sentiment                                               text  \\\n",
       "0    positive  <USER_MENTION> #BOIKOT_<PROVIDER_NAME> Gunakan...   \n",
       "1    positive  Saktinya balik lagi, alhamdulillah :v <PROVIDE...   \n",
       "2    negative  Selamat pagi <PROVIDER_NAME>  bisa bantu kenap...   \n",
       "3    negative  Dear <PROVIDER_NAME> akhir2 ini jaringan data ...   \n",
       "4    negative            Selamat malam PENDUSTA <PROVIDER_NAME>    \n",
       "..        ...                                                ...   \n",
       "295  positive  Pantesan lancar ya, sinyal <PROVIDER_NAME> yan...   \n",
       "296  positive         Alhamdulillah lancar pakai <PROVIDER_NAME>   \n",
       "297  positive  Untung pakai internet <PROVIDER_NAME>, lancar,...   \n",
       "298  positive  di tempat ramai seperti di lokasi wisata, <PRO...   \n",
       "299  negative  Sinyal <PROVIDER_NAME> amsyong d stadion gajayana   \n",
       "\n",
       "                                            clean_teks  \n",
       "0                                        produk bangsa  \n",
       "1                                sakti alhamdulillah v  \n",
       "2    selamat pagi bantu kamar sinyal hilang panggil...  \n",
       "3                        dear jaring data lot banget h  \n",
       "4                                  selamat malam dusta  \n",
       "..                                                 ...  \n",
       "295      pantesan lancar ya sinyal lancar lombok timur  \n",
       "296                         alhamdulillah lancar pakai  \n",
       "297                   untung pakai internet lancar ide  \n",
       "298                           ramai lokasi wisata jaya  \n",
       "299                    sinyal amsyong stadion gajayana  \n",
       "\n",
       "[300 rows x 3 columns]"
      ]
     },
     "execution_count": 52,
     "metadata": {},
     "output_type": "execute_result"
    }
   ],
   "source": [
    "data"
   ]
  },
  {
   "cell_type": "code",
   "execution_count": 53,
   "id": "e6141b83-abcb-4f70-9518-436a0fc3bc21",
   "metadata": {},
   "outputs": [],
   "source": [
    "data.to_csv('jaringanClean.csv', index=False)"
   ]
  },
  {
   "cell_type": "markdown",
   "id": "bd57d753-8349-4b34-b36a-f8dd8217edf9",
   "metadata": {},
   "source": [
    "# simple deployment"
   ]
  },
  {
   "cell_type": "code",
   "execution_count": 57,
   "id": "b62640fa-3756-46bb-b85f-51c83e20d1c9",
   "metadata": {},
   "outputs": [],
   "source": [
    "import joblib\n",
    "from sklearn.feature_extraction.text import TfidfVectorizer\n",
    "\n",
    "# Mengimpor model dari file .joblib\n",
    "model = joblib.load('nlpJarinan.joblib')\n",
    "vocab = pickle.load(open('kbest_feature.pickle', 'rb'))"
   ]
  },
  {
   "cell_type": "code",
   "execution_count": 62,
   "id": "62084c75-f481-48b1-8bd1-0278699faadb",
   "metadata": {},
   "outputs": [
    {
     "name": "stdout",
     "output_type": "stream",
     "text": [
      "Hasil Text Preprocessing : alhamdulillah internetnya lot\n",
      "Hasil Prediksi           : alhamdulillah internetnya lemot \n",
      "\n",
      " ['negative']\n"
     ]
    }
   ],
   "source": [
    "#@title Masukkan Teks Anda:\n",
    "input_text = \"alhamdulillah internetnya lemot\" #@param {type:\"string\"}\n",
    "\n",
    "pre_input_text = text_preprocessing_process(input_text)   # lakukan text pre processing pada text input\n",
    "\n",
    "tf_idf_vec = TfidfVectorizer(vocabulary=set(vocab))       # definisikan TF_IDF\n",
    "\n",
    "result = model.predict(tf_idf_vec.fit_transform([pre_input_text]))  # Lakukan prediksi\n",
    "\n",
    "print('Hasil Text Preprocessing :', pre_input_text)\n",
    "print('Hasil Prediksi           :', input_text, '\\n\\n', result)"
   ]
  },
  {
   "cell_type": "code",
   "execution_count": null,
   "id": "44943538-8e4b-43f0-885a-90a9a2eabee2",
   "metadata": {},
   "outputs": [],
   "source": []
  }
 ],
 "metadata": {
  "kernelspec": {
   "display_name": "Python 3 (ipykernel)",
   "language": "python",
   "name": "python3"
  },
  "language_info": {
   "codemirror_mode": {
    "name": "ipython",
    "version": 3
   },
   "file_extension": ".py",
   "mimetype": "text/x-python",
   "name": "python",
   "nbconvert_exporter": "python",
   "pygments_lexer": "ipython3",
   "version": "3.10.11"
  }
 },
 "nbformat": 4,
 "nbformat_minor": 5
}
